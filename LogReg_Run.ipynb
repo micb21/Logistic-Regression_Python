#Python Console

regressao = regressaologistica()

lr = 0.001
delta_iteracao = 0.001

print('Insira o numero maximo de iteracoes \n')
num_iteracoes = float(input())

print('Erro minimo para condicao de paragem \n')
erro_min = float(input())

regressao._init_(lr, num_iteracoes, erro_min, delta_iteracao)

print('Insira numero de linhas Matriz X \n')
l_x = int(input())
print('Insira numero de colunas Matriz X \n')
c_x = int(input())
X = []
X = criacao_matrix(X, l_x, c_x)

print('Insira numero de linhas Matriz Y \n')
l_y = int(input())
print('Insira numero de colunas Matriz Y \n')
c_y = int(input())
Y = []
Y = criacao_matrix(Y, l_y, c_y)
X = [[0.3, 0.8], [0.1, 0.2]]
Y = [[0.5, 0.3], [0.3, 0.5]]

regressao.fit(X,Y)
regressao.plot(X,Y)
